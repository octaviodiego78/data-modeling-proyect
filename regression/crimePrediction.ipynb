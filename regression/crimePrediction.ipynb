{
 "cells": [
  {
   "cell_type": "markdown",
   "metadata": {},
   "source": [
    "# **Regression**"
   ]
  },
  {
   "cell_type": "markdown",
   "metadata": {},
   "source": [
    "El objetivo de esta aplicación de proyecto se puede separar en las siguientes fases:\n",
    "\n",
    "1. **Definición del problema**. El estudiante debe definir un problema a ser resuelto, basado en la selección de un conjunto de datos de un problema que sea de su interés. Es importante que los datos seleccionados correspondan a un problema de regresión de forma que cumpla con el objetivo de la sección de este proyecto. Si la selección de los datos es complicada, como sugerencia pueden tomar el que sea de su interés de las siguientes páginas:\n",
    "\n",
    "2. **Preparación de datos:** Limpieza y extracción de información estadística básica en los datos analizados. En esta fase las características de las bases de datos deben ser mencionadas (datos nulos, datos sesgados, datos atípicos, datos imbalanceados, distribución de datos, etc.), así como el proceso y decisiones tomadas para procesar y limpiar estos datos.  Incluir gráficos que muestren el comportamiento de los datos y explicar lo que se observa en el gráfico. \n",
    "\n",
    "3. **Procesar modelo de regresión:** Aplicar al menos 4 modelos de regresión para estimar el mapeo de los datos. La intención principal es hacer una comparación del performance de cada modelo, incluyendo la mención de la complejidad (número de parámetros y tiempo de ejecución). Añadir un método de ajuste de hiperparámetros para mejorar el performance del modelo. Crear un conjunto de datos \"nuevos\" donde se prediga la variable objetivo para esos nuevos datos. \n",
    "\n",
    "4. **Discusión de los resultados:** Basado en los resultados de la comparación y performance de los modelos, generar una sección de conclusiones donde se hable de las ventajas y desventajas de los modelos propuestos. "
   ]
  },
  {
   "cell_type": "markdown",
   "metadata": {},
   "source": []
  }
 ],
 "metadata": {
  "language_info": {
   "name": "python"
  },
  "orig_nbformat": 4
 },
 "nbformat": 4,
 "nbformat_minor": 2
}
