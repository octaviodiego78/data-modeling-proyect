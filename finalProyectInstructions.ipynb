{
 "cells": [
  {
   "cell_type": "markdown",
   "metadata": {},
   "source": [
    "___\n",
    "<img style=\"float: right; margin: 0px 0px 15px 15px;\" src=\"https://dezyre.gumlet.io/images/Types+of+Regression+Analysis+in+Machine+Learning/Regression+Analysis.png?w=330&dpr=2.6\" width=\"350px\" height=\"180px\" />\n",
    "\n",
    "\n",
    "# <font color= #8A0829> Proyecto Taller de Modelado de Datos </font>\n",
    "- <Strong> `NOMBRE ALUMNO` </Strong>\n",
    "- <Strong> Año </Strong>: 2023\n",
    "- <Strong> Email: </Strong>  <font color=\"blue\"> `CORREO ALUMNO` </font>\n",
    "___\n",
    "\n",
    "<p style=\"text-align:left;\"> Imagen recuperada de: https://dezyre.gumlet.io/images/Types+of+Regression+Analysis+in+Machine+Learning/Regression+Analysis.png?w=330&dpr=2.6</p>\n",
    "\n"
   ]
  },
  {
   "cell_type": "markdown",
   "metadata": {},
   "source": [
    "### OBJETIVO: \n",
    "\n",
    "El objetivo del proyecto es evaluar el conocimiento adquirido de regresión lineal/logística, redes neuronales, máquinas de vector soporte y modelos basados en árboles tanto para problemas de regresión como de clasificación. "
   ]
  },
  {
   "cell_type": "markdown",
   "metadata": {},
   "source": [
    "### Regresión"
   ]
  },
  {
   "cell_type": "markdown",
   "metadata": {},
   "source": [
    "El objetivo de esta aplicación de proyecto se puede separar en las siguientes fases:\n",
    "\n",
    "1. **Definición del problema**. El estudiante debe definir un problema a ser resuelto, basado en la selección de un conjunto de datos de un problema que sea de su interés. Es importante que los datos seleccionados correspondan a un problema de regresión de forma que cumpla con el objetivo de la sección de este proyecto. Si la selección de los datos es complicada, como sugerencia pueden tomar el que sea de su interés de las siguientes páginas:\n",
    "\n",
    "http://archive.ics.uci.edu/ml/\n",
    "\n",
    "https://www.kdnuggets.com/datasets/index.html\n",
    "\n",
    "https://www.kaggle.com/datasets\n",
    "\n",
    "https://data.world/\n",
    "\n",
    "2. **Preparación de datos:** Limpieza y extracción de información estadística básica en los datos analizados. En esta fase las características de las bases de datos deben ser mencionadas (datos nulos, datos sesgados, datos atípicos, datos imbalanceados, distribución de datos, etc.), así como el proceso y decisiones tomadas para procesar y limpiar estos datos.  Incluir gráficos que muestren el comportamiento de los datos y explicar lo que se observa en el gráfico. \n",
    "\n",
    "3. **Procesar modelo de regresión:** Aplicar al menos 4 modelos de regresión para estimar el mapeo de los datos. La intención principal es hacer una comparación del performance de cada modelo, incluyendo la mención de la complejidad (número de parámetros y tiempo de ejecución). Añadir un método de ajuste de hiperparámetros para mejorar el performance del modelo. Crear un conjunto de datos \"nuevos\" donde se prediga la variable objetivo para esos nuevos datos. \n",
    "\n",
    "4. **Discusión de los resultados:** Basado en los resultados de la comparación y performance de los modelos, generar una sección de conclusiones donde se hable de las ventajas y desventajas de los modelos propuestos. "
   ]
  },
  {
   "cell_type": "markdown",
   "metadata": {},
   "source": [
    "# Clasificación"
   ]
  },
  {
   "cell_type": "markdown",
   "metadata": {},
   "source": [
    "El objetivo de esta aplicación de proyecto se puede separar en las siguientes fases:\n",
    "\n",
    "1. **Definición del problema**. El estudiante debe definir un problema a ser resuelto, basado en la selección de un conjunto de datos de un problema que sea de su interés. Es importante que los datos seleccionados correspondan a un problema de clasificación de forma que cumpla con el objetivo de la sección de este proyecto. Si la selección de los datos es complicada, como sugerencia pueden tomar el que sea de su interés de las siguientes páginas:\n",
    "\n",
    "2. **Preparación de datos:** Limpieza y extracción de información estadística básica en los datos analizados. En esta fase las características de las bases de datos deben ser mencionadas (datos nulos, datos sesgados, datos atípicos, datos imbalanceados, distribución de datos, etc.), así como el proceso y decisiones tomadas para procesar y limpiar estos datos.  Incluir gráficos que muestren el comportamiento de los datos y explicar lo que se observa en el gráfico. \n",
    "\n",
    "3. **Procesar modelo de clasificación:** Aplicar al menos 4 modelos de clasificación para estimar el mapeo de los datos. La intención principal es hacer una comparación del performance de cada modelo, incluyendo la mención de la complejidad (número de parámetros y tiempo de ejecución). Añadir un método de ajuste de hiperparámetros (gridsearch) para mejorar el performance del modelo. Crear un conjunto de datos \"nuevos\" donde se prediga la variable objetivo para esos nuevos datos. \n",
    "\n",
    "4. **Discusión de los resultados:** Basado en los resultados de la comparación y performance de los modelos, generar una sección de conclusiones donde se hable de las ventajas y desventajas de los modelos propuestos. "
   ]
  },
  {
   "cell_type": "markdown",
   "metadata": {},
   "source": [
    "### Calificación"
   ]
  },
  {
   "cell_type": "markdown",
   "metadata": {},
   "source": [
    "La calificación de cada fase del proyecto incluido en el reporte final es la siguiente:\n",
    "\n",
    "| Fase | Puntuación | Características Generales |\n",
    "| --- | --- | --- |\n",
    "| Definición del problema | 15% | 1. Mencionar el origen de los datos <br /> 2.Dar contexto de los datos (significado de las variables si es posible) <br /> 3. Describir de qué se trata el problema a resolver|\n",
    "| Preparación de datos | 30% | 1. Incluya **gráficos** y métricas utilizadas para describir la base de datos. <br /> 1. Describir el tratamiento de variables que requieren transformación o modificación de valores. |\n",
    "| Procesar modelo de regresión/clasificación | 40% | 1. Describir el modelo aplicado. <br /> 2. Evaluar el desempeño de cada modelo utilizando métricas comunes para poder realizar la comparación. <br /> 3. Pruebe los modelos utilizando datasets en común para que la comparación sea válida 4. Aplicación del modelo para predecir datos nuevos|\n",
    "| Discusión de los resultados | 15% | 1. Resalte sus observaciones validadas por las métricas que se muestran dentro del desarrollo. <br /> 2. Dar conclusión personal de los resultados y el uso o aplicación de los modelos. |"
   ]
  },
  {
   "cell_type": "markdown",
   "metadata": {},
   "source": [
    "### Entregables"
   ]
  },
  {
   "cell_type": "markdown",
   "metadata": {},
   "source": [
    "Reporte que valida el desempeño de las actividades anteriores.\n",
    "\n",
    "Especificaciones de evaluación del reporte:\n",
    "\n",
    "- El informe del trabajo realizado se entregará digitalmente en un documento elaborado en una computadora (no fotografías de hojas o cuadernos), e incluirá como mínimo:\n",
    "    - Nombre y apellidos del alumno.\n",
    "    - Es obligatorio que incluyan el código que generaron para realizar la práctica. \n",
    "    - Debe haber un capítulo que describa la solución propuesta al problema.\n",
    "    - Es necesario adjuntar también los archivos de datos históricos que se han utilizado, o indicar la ruta para poder descargarlos si es necesario para ejecutar su desarrollo.\n",
    "    - Al asignar datos, se espera que se obtengan resultados diferentes en cada informe (no copiar).\n",
    "    - Incluir figuras para visualizar los resultados, pero cada figura incluida debe ser comentada para que se vea la relevancia de incluirla.\n",
    "    - NO es necesario imprimir el informe en color. Es deseable que la entrega sea en formato de jupyter notebook.\n",
    "    - Es obligatorio tener una sección de conclusiones.\n",
    "    - Se hará revisión de faltas de ortografía"
   ]
  }
 ],
 "metadata": {
  "kernelspec": {
   "display_name": "Python 3 (ipykernel)",
   "language": "python",
   "name": "python3"
  },
  "language_info": {
   "codemirror_mode": {
    "name": "ipython",
    "version": 3
   },
   "file_extension": ".py",
   "mimetype": "text/x-python",
   "name": "python",
   "nbconvert_exporter": "python",
   "pygments_lexer": "ipython3",
   "version": "3.11.5"
  }
 },
 "nbformat": 4,
 "nbformat_minor": 4
}
